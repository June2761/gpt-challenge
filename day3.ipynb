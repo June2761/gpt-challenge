{
 "cells": [
  {
   "cell_type": "markdown",
   "metadata": {},
   "source": [
    "- 앞서 배운 메모리 클래스 중 하나를 사용하는 메모리로 LCEL 체인을 구현합니다.\n",
    "- 이 체인은 영화 제목을 가져와 영화를 나타내는 세 개의 이모티콘으로 응답해야 합니다. (예: \"탑건\" -> \"🛩️👨‍✈️🔥\". \"대부\" -> \"👨‍👨‍👦🔫🍝\").\n",
    "- 항상 세 개의 이모티콘으로 답장하도록 FewShotPromptTemplate 또는 FewShotChatMessagePromptTemplate을 사용하여 체인에 예시를 제공하세요.\n",
    "- 메모리가 작동하는지 확인하려면 체인에 두 개의 영화에 대해 질문한 다음 다른 셀에서 체인에 먼저 질문한 영화가 무엇인지 알려달라고 요청하세요."
   ]
  },
  {
   "cell_type": "code",
   "execution_count": null,
   "metadata": {},
   "outputs": [],
   "source": [
    "from langchain.memory import ConversationSummaryBufferMemory\n",
    "from langchain.chat_models import ChatOpenAI\n",
    "from langchain.prompts import FewShotChatMessagePromptTemplate, ChatPromptTemplate\n",
    "from langchain.schema.runnable import RunnablePassthrough\n",
    "\n",
    "# 메모리 로드 함수\n",
    "def load_memory(_):\n",
    "    return memory.load_memory_variables({})[\"history\"]\n",
    "\n",
    "# 메모리 초기화 함수\n",
    "def reset_memory():\n",
    "    memory.clear()\n",
    "\n",
    "# 영화 제목에 대한 예시와 그에 해당하는 이모티콘 응답\n",
    "examples = [\n",
    "    {\"input\": \"Top Gun\", \"output\": \"🛩️👨‍✈️🔥\"},\n",
    "    {\"input\": \"The Godfather\", \"output\": \"👨‍👨‍👦🔫🍝\"},\n",
    "    {\"input\": \"Finding Nemo\", \"output\": \"🐟🔍🌊\"},\n",
    "    {\"input\": \"Jurassic Park\", \"output\": \"🦖🌴🚙\"},\n",
    "    {\"input\": \"Harry Potter\", \"output\": \"🪄🧙‍♂️🏰\"},\n",
    "]\n",
    "\n",
    "# 예시 메시지의 포맷을 정의\n",
    "example_prompt = ChatPromptTemplate.from_messages(\n",
    "    [('human', '{input}'), ('ai', '{output}')]\n",
    ")\n",
    "\n",
    "# FewShotChatMessagePromptTemplate을 생성\n",
    "few_shot_prompt = FewShotChatMessagePromptTemplate(\n",
    "    examples=examples,\n",
    "    example_prompt=example_prompt,\n",
    ")\n",
    "\n",
    "# 최종 프롬프트를 작성\n",
    "final_prompt = ChatPromptTemplate.from_messages(\n",
    "    [\n",
    "        ('system', 'You are a helpful AI Assistant that responds with three emojis for movie titles.'),\n",
    "        few_shot_prompt,\n",
    "        ('human', '{question}'),\n",
    "    ]\n",
    ")\n",
    "\n",
    "# 모델을 ChatOpenAI로 설정\n",
    "llm = ChatOpenAI(model=\"gpt-3.5-turbo\", temperature=0.1)\n",
    "\n",
    "# 메모리 설정 (대화 요약 메모리 사용)\n",
    "memory = ConversationSummaryBufferMemory(\n",
    "    llm=llm,\n",
    "    max_token_limit=120,\n",
    "    return_messages=True,\n",
    ")\n",
    "\n",
    "# 메모리와 프롬프트 연결\n",
    "chain = RunnablePassthrough.assign(history=load_memory) | final_prompt | llm\n",
    "\n",
    "# 체인 호출 함수\n",
    "def invoke_chain(question):\n",
    "    result = chain.invoke({\"question\": question})\n",
    "    memory.save_context(\n",
    "        {\"input\": question},\n",
    "        {\"output\": result.content},\n",
    "    )\n",
    "    print(result.content)\n",
    "\n",
    "\n"
   ]
  },
  {
   "cell_type": "code",
   "execution_count": 73,
   "metadata": {},
   "outputs": [
    {
     "name": "stdout",
     "output_type": "stream",
     "text": [
      "🍌😂💛\n",
      "🏠🪰👨‍👩‍👧‍👦\n"
     ]
    }
   ],
   "source": [
    "reset_memory()\n",
    "\n",
    "# 첫 번째 영화에 대한 질문\n",
    "invoke_chain(\"미니언즈\")\n",
    "\n",
    "# 두 번째 영화에 대한 질문\n",
    "invoke_chain(\"기생충\")\n"
   ]
  },
  {
   "cell_type": "code",
   "execution_count": 78,
   "metadata": {},
   "outputs": [
    {
     "name": "stdout",
     "output_type": "stream",
     "text": [
      "content='🍌😂💛'\n"
     ]
    }
   ],
   "source": [
    "# 메모리에서 첫 번째 영화가 무엇인지 확인\n",
    "print(memory.load_memory_variables({})[\"history\"][1])  # 첫 번째 질문의 기억"
   ]
  },
  {
   "cell_type": "code",
   "execution_count": null,
   "metadata": {},
   "outputs": [],
   "source": []
  }
 ],
 "metadata": {
  "kernelspec": {
   "display_name": "venv",
   "language": "python",
   "name": "python3"
  },
  "language_info": {
   "codemirror_mode": {
    "name": "ipython",
    "version": 3
   },
   "file_extension": ".py",
   "mimetype": "text/x-python",
   "name": "python",
   "nbconvert_exporter": "python",
   "pygments_lexer": "ipython3",
   "version": "3.11.6"
  }
 },
 "nbformat": 4,
 "nbformat_minor": 2
}
