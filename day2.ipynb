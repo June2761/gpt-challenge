{
 "cells": [
  {
   "cell_type": "markdown",
   "metadata": {},
   "source": [
    "- 영화 이름을 가지고 감독, 주요 출연진, 예산, 흥행 수익, 영화의 장르, 간단한 시놉시스 등 영화에 대한 정보로 답장하는 체인을 만드세요.\n",
    "- LLM은 항상 동일한 형식을 사용하여 응답해야 하며, 이를 위해서는 원하는 출력의 예시를 LLM에 제공해야 합니다.\n",
    "- 예제를 제공하려면 FewShotPromptTemplate 또는 FewShotChatMessagePromptTemplate을 사용하세요."
   ]
  },
  {
   "cell_type": "code",
   "execution_count": 8,
   "metadata": {},
   "outputs": [],
   "source": [
    "from langchain.chat_models import ChatOpenAI\n",
    "from langchain.prompts import ChatPromptTemplate, FewShotChatMessagePromptTemplate\n",
    "from langchain.callbacks import StreamingStdOutCallbackHandler\n",
    "\n",
    "# OpenAI 모델 설정\n",
    "chat = ChatOpenAI(\n",
    "    temperature=0.7,\n",
    "    streaming=True,\n",
    "    model=\"gpt-3.5-turbo\",\n",
    "    callbacks=[StreamingStdOutCallbackHandler()],\n",
    ")\n",
    "\n",
    "# 예제 데이터\n",
    "examples = [\n",
    "    {\n",
    "        \"movie_name\": \"Inception\",\n",
    "        \"response\": \"\"\"\n",
    "        Movie Name: Inception\n",
    "        Director: Christopher Nolan\n",
    "        Main Cast: Leonardo DiCaprio, Joseph Gordon-Levitt, Ellen Page, Tom Hardy\n",
    "        Budget: $160 million\n",
    "        Box Office: $836.8 million\n",
    "        Genre: Science Fiction, Action, Thriller\n",
    "        Synopsis: A skilled thief, Dom Cobb, specializes in extracting secrets from people's dreams. To redeem himself, he undertakes a seemingly impossible task: planting an idea into someone's subconscious. However, unforeseen challenges and his own past threaten the mission.\n",
    "        \"\"\"\n",
    "    },\n",
    "    {\n",
    "        \"movie_name\": \"The Godfather\",\n",
    "        \"response\": \"\"\"\n",
    "        Movie Name: The Godfather\n",
    "        Director: Francis Ford Coppola\n",
    "        Main Cast: Marlon Brando, Al Pacino, James Caan, Diane Keaton\n",
    "        Budget: $6 million\n",
    "        Box Office: $250-291 million\n",
    "        Genre: Crime, Drama\n",
    "        Synopsis: The aging patriarch of the Corleone crime family transfers control of his clandestine empire to his reluctant youngest son, Michael. The transition, filled with betrayal and power struggles, transforms Michael into a ruthless leader.\n",
    "        \"\"\"\n",
    "    }\n",
    "]\n",
    "\n",
    "# Example prompt 생성\n",
    "example_prompt = ChatPromptTemplate.from_messages(\n",
    "    [\n",
    "        (\"human\", \"Provide detailed information about the movie {movie_name}.\"),\n",
    "        (\"ai\", \"{response}\"),\n",
    "    ]\n",
    ")\n",
    "\n",
    "# Few-shot prompt 생성\n",
    "few_shot_prompt = FewShotChatMessagePromptTemplate(\n",
    "    example_prompt=example_prompt,\n",
    "    examples=examples,\n",
    ")\n",
    "\n",
    "# 최종 prompt 생성\n",
    "final_prompt = ChatPromptTemplate.from_messages(\n",
    "    [\n",
    "        (\"system\", \"You are a movie information expert. Provide concise and structured information.\"),\n",
    "        few_shot_prompt,\n",
    "        (\"human\", \"Provide detailed information about the movie {movie_name}.\"),\n",
    "    ]\n",
    ")\n"
   ]
  },
  {
   "cell_type": "code",
   "execution_count": 7,
   "metadata": {},
   "outputs": [
    {
     "name": "stdout",
     "output_type": "stream",
     "text": [
      "\n",
      "        Movie Name: Titanic\n",
      "        Director: James Cameron\n",
      "        Main Cast: Leonardo DiCaprio, Kate Winslet, Billy Zane\n",
      "        Budget: $200 million\n",
      "        Box Office: $2.2 billion\n",
      "        Genre: Romance, Drama\n",
      "        Synopsis: The epic love story between Jack and Rose, passengers from different social classes aboard the ill-fated RMS Titanic. As they fall in love, they must navigate the ship's impending tragedy, trying to survive the sinking while facing societal expectations.\n",
      "        "
     ]
    }
   ],
   "source": [
    "# 체인 실행\n",
    "response = chat(final_prompt.format_prompt(movie_name=\"Titanic\").to_messages())"
   ]
  },
  {
   "cell_type": "code",
   "execution_count": null,
   "metadata": {},
   "outputs": [],
   "source": []
  }
 ],
 "metadata": {
  "kernelspec": {
   "display_name": "venv",
   "language": "python",
   "name": "python3"
  },
  "language_info": {
   "codemirror_mode": {
    "name": "ipython",
    "version": 3
   },
   "file_extension": ".py",
   "mimetype": "text/x-python",
   "name": "python",
   "nbconvert_exporter": "python",
   "pygments_lexer": "ipython3",
   "version": "3.11.6"
  }
 },
 "nbformat": 4,
 "nbformat_minor": 2
}
