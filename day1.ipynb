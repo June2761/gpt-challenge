{
 "cells": [
  {
   "cell_type": "code",
   "execution_count": 1,
   "metadata": {},
   "outputs": [],
   "source": [
    "from langchain.chat_models import ChatOpenAI\n",
    "from langchain.prompts import ChatPromptTemplate\n",
    "from langchain.callbacks import StreamingStdOutCallbackHandler\n",
    "\n",
    "# OpenAI 모델 설정\n",
    "chat = ChatOpenAI(\n",
    "    temperature=0.7,  # 창의적인 응답을 위해 온도 조정\n",
    "    streaming=True,\n",
    "    model=\"gpt-3.5-turbo\",\n",
    "    callbacks=[StreamingStdOutCallbackHandler()],\n",
    ")\n",
    "\n",
    "# 시 생성 프롬프트\n",
    "poem_prompt = ChatPromptTemplate.from_messages(\n",
    "    [\n",
    "        (\n",
    "            \"system\",\n",
    "            \"You are a creative poet who writes inspiring poems about programming languages.\",\n",
    "        ),\n",
    "        (\n",
    "            \"human\",\n",
    "            \"Write a poem about the programming language {language}. Highlight its features and philosophy in a poetic way.\",\n",
    "        ),\n",
    "    ]\n",
    ")\n",
    "\n",
    "# 시 생성 체인\n",
    "poem_chain = poem_prompt | chat\n",
    "\n",
    "# 설명 프롬프트\n",
    "explanation_prompt = ChatPromptTemplate.from_messages(\n",
    "    [\n",
    "        (\n",
    "            \"system\",\n",
    "            \"You are a programming language expert providing detailed explanations about programming languages.\",\n",
    "        ),\n",
    "        (\n",
    "            \"human\",\n",
    "            \"Explain the programming language {language} in detail. Include its purpose, unique features, use cases, and significance.\",\n",
    "        ),\n",
    "    ]\n",
    ")\n",
    "\n",
    "# 설명 체인\n",
    "explanation_chain = explanation_prompt | chat\n",
    "\n",
    "# 최종 체인: 시 생성 결과를 설명 체인으로 연결\n",
    "final_chain = {\"language\": poem_chain} | explanation_chain"
   ]
  },
  {
   "cell_type": "code",
   "execution_count": 2,
   "metadata": {},
   "outputs": [
    {
     "name": "stdout",
     "output_type": "stream",
     "text": [
      "In the realm of code that's grand and vast,\n",
      "Java stands tall, a language built to last.\n",
      "With elegance and simplicity, it does shine,\n",
      "A versatile tool for the programmer's design.\n",
      "\n",
      "Object-oriented, its philosophy true,\n",
      "Encapsulating data, inheritance it imbues.\n",
      "Polymorphism dances gracefully in its code,\n",
      "Abstraction and modularity, a powerful mode.\n",
      "\n",
      "From desktop to server, it spans the land,\n",
      "Robust and secure, with a firm command.\n",
      "Cross-platform compatibility, a boon indeed,\n",
      "Write once, run anywhere, fulfilling every need.\n",
      "\n",
      "Threads intertwine in a web of creation,\n",
      "Concurrent and efficient, a marvel of innovation.\n",
      "Java, the language of enterprise and might,\n",
      "Empowering developers to reach great heights.\n",
      "\n",
      "So raise your IDEs, let the coding begin,\n",
      "In the world of Java, where possibilities never thin.\n",
      "A language of beauty, a symphony of lines,\n",
      "Java, the beacon where innovation shines.The provided excerpt describes the programming language Java in a poetic and expressive manner. Let's delve deeper into the details of Java based on the content:\n",
      "\n",
      "1. **Purpose**: Java was developed by Sun Microsystems (now owned by Oracle Corporation) in the mid-1990s. It was designed to be a platform-independent, object-oriented programming language that would be simple, robust, secure, and versatile. Java aimed to be a language that could be used for a wide range of applications, from desktop to enterprise-level systems.\n",
      "\n",
      "2. **Unique Features**:\n",
      "   - **Object-Oriented**: Java follows the object-oriented programming paradigm, where everything is treated as an object. This allows for code reusability, encapsulation, and easier maintenance.\n",
      "   - **Portability**: One of Java's key features is its \"write once, run anywhere\" capability. Java programs can run on any device or platform that has a Java Virtual Machine (JVM) installed, making it highly portable.\n",
      "   - **Concurrency**: Java provides built-in support for multithreading and concurrency, allowing developers to create efficient and scalable applications that can perform multiple tasks simultaneously.\n",
      "   - **Security**: Java has built-in security features that protect against malicious code and ensure the integrity of programs running on the Java platform.\n",
      "   - **Robust Standard Library**: Java comes with a comprehensive standard library that provides ready-to-use classes and methods for common programming tasks, making development faster and more efficient.\n",
      "\n",
      "3. **Use Cases**:\n",
      "   - **Enterprise Applications**: Java is widely used in the development of enterprise-level applications such as customer relationship management (CRM) systems, banking software, and e-commerce platforms.\n",
      "   - **Web Development**: Java is used to build dynamic and interactive web applications, often through frameworks like Spring and Hibernate.\n",
      "   - **Mobile Development**: Java is used for creating Android applications, as Android Studio, the official IDE for Android development, uses Java as its primary language.\n",
      "   - **Big Data**: Java is commonly used in big data processing frameworks like Apache Hadoop and Apache Spark due to its scalability and performance.\n",
      "\n",
      "4. **Significance**:\n",
      "   - Java has remained popular and relevant for over two decades due to its stability, scalability, and versatility.\n",
      "   - Its strong emphasis on portability and security makes it a preferred choice for mission-critical applications in various industries.\n",
      "   - Java's extensive community support, vast ecosystem of libraries and tools, and its backing by Oracle ensure its continued growth and evolution in the ever-changing landscape of technology.\n",
      "\n",
      "Overall, Java's combination of object-oriented principles, portability, concurrency support, and robustness has solidified its position as a prominent programming language in the software development industry."
     ]
    },
    {
     "data": {
      "text/plain": [
       "AIMessageChunk(content='The provided excerpt describes the programming language Java in a poetic and expressive manner. Let\\'s delve deeper into the details of Java based on the content:\\n\\n1. **Purpose**: Java was developed by Sun Microsystems (now owned by Oracle Corporation) in the mid-1990s. It was designed to be a platform-independent, object-oriented programming language that would be simple, robust, secure, and versatile. Java aimed to be a language that could be used for a wide range of applications, from desktop to enterprise-level systems.\\n\\n2. **Unique Features**:\\n   - **Object-Oriented**: Java follows the object-oriented programming paradigm, where everything is treated as an object. This allows for code reusability, encapsulation, and easier maintenance.\\n   - **Portability**: One of Java\\'s key features is its \"write once, run anywhere\" capability. Java programs can run on any device or platform that has a Java Virtual Machine (JVM) installed, making it highly portable.\\n   - **Concurrency**: Java provides built-in support for multithreading and concurrency, allowing developers to create efficient and scalable applications that can perform multiple tasks simultaneously.\\n   - **Security**: Java has built-in security features that protect against malicious code and ensure the integrity of programs running on the Java platform.\\n   - **Robust Standard Library**: Java comes with a comprehensive standard library that provides ready-to-use classes and methods for common programming tasks, making development faster and more efficient.\\n\\n3. **Use Cases**:\\n   - **Enterprise Applications**: Java is widely used in the development of enterprise-level applications such as customer relationship management (CRM) systems, banking software, and e-commerce platforms.\\n   - **Web Development**: Java is used to build dynamic and interactive web applications, often through frameworks like Spring and Hibernate.\\n   - **Mobile Development**: Java is used for creating Android applications, as Android Studio, the official IDE for Android development, uses Java as its primary language.\\n   - **Big Data**: Java is commonly used in big data processing frameworks like Apache Hadoop and Apache Spark due to its scalability and performance.\\n\\n4. **Significance**:\\n   - Java has remained popular and relevant for over two decades due to its stability, scalability, and versatility.\\n   - Its strong emphasis on portability and security makes it a preferred choice for mission-critical applications in various industries.\\n   - Java\\'s extensive community support, vast ecosystem of libraries and tools, and its backing by Oracle ensure its continued growth and evolution in the ever-changing landscape of technology.\\n\\nOverall, Java\\'s combination of object-oriented principles, portability, concurrency support, and robustness has solidified its position as a prominent programming language in the software development industry.')"
      ]
     },
     "execution_count": 2,
     "metadata": {},
     "output_type": "execute_result"
    }
   ],
   "source": [
    "\n",
    "# 실행 예시\n",
    "final_chain.invoke({\"language\": \"Java\"})\n"
   ]
  },
  {
   "cell_type": "code",
   "execution_count": null,
   "metadata": {},
   "outputs": [],
   "source": []
  }
 ],
 "metadata": {
  "kernelspec": {
   "display_name": "venv",
   "language": "python",
   "name": "python3"
  },
  "language_info": {
   "codemirror_mode": {
    "name": "ipython",
    "version": 3
   },
   "file_extension": ".py",
   "mimetype": "text/x-python",
   "name": "python",
   "nbconvert_exporter": "python",
   "pygments_lexer": "ipython3",
   "version": "3.11.6"
  }
 },
 "nbformat": 4,
 "nbformat_minor": 2
}
